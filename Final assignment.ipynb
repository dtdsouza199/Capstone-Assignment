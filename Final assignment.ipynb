{
    "cells": [
        {
            "cell_type": "markdown",
            "metadata": {
                "collapsed": true
            },
            "source": "# Introduction: \n\nThe aim of this project is to find the best location to open a restaurant. This report is created with   the intention of providing accurate data to the stakeholders who are interested In  starting a restaurant in Toronto Ontario Canada.\nBased on various factors it will provide data regarding the best locations to start the business based on the population in the neighbourhood .There are many restaurants in Toronto .The aim of this is to find places where there is a scope for opening a restaurant .The use of Data science to provide the locations and their geographical area  will be evaluated so the best possible location can be found for the stakeholders\nData\nBased on the evaluation of our case study , factors that will most likely influence the  decision making process  are:\n\u2022\tEach and every restaurant in the neighbourhood \n\u2022\tThe age and income of the customers \n\u2022\tDistance from the households to Downtown Toronto \nThe use of grid which are regularly spaced  to define the neighbourhood.\nThe Following data sources will be required  to extract/generate the necessary Data\n\u2022\tcentres of candidate areas will be generated algorithmically and approximate addresses of centre\u2019s of those areas will be obtained using https://en.wikipedia.org/wiki/List_of_postal_codes_of_Canada:_M\n\u2022\tusing Foursquare API  the type and location of the number of restaurants will be obtained\nMethodology \n\nBased on the locality and its population .The main aim of the project is to find the location most  suitable to open a restaurant in Toronto .\nIn order to achieve the required result two datasets are used which will be utilized to get the result\nk-mean clustering algorithm is my choice to obtain the result the reason I chose this is because  it is through K-mean clustering algorithm where data without characteristics can be found .The algorithm works in such a manner that it  is able pin point the k groups based on the feature provided .data points in clusters are based on similarity \n\n\n\n\nAlso, I will be utilizing different maps in-order to give a clear vision to the target audience.\nSteps taken for the analysis :\n The 'restaurant density' across different areas of Toronto \u2013 the  use K- mean to identify a few promising areas close to downtown Toronto  with few  number of restaurants and their type.\n\u2022\tExploration of  the most promising areas  within those create clusters of locations that meet some basic requirements established in discussion with stakeholders: we will take into consideration locations with less restaurants in radius of 500 meters, We will present map of all such locations but also create clusters (using k-means clustering) of those locations to explore neighbourhood.\n\n\nAnalysis \nData identification, capturing and cleaning.\nUsing Wikipedia to find the data  we are able to search and identify the relevant  data source and capture it then by cleaning the data and unnecessary data is removed .Now the data is clean and ready to be utilized \nCombining different data source and sorting neighbourhood based on Longitude and latitude\nNow, we will combine neighbourhood dataset with postal address and dataset with Latitude & Longitude and save them it separate data frame. The resultant data frame with contain details about Postal code, Borough, Neighbourhood, Latitude & Longitude. Then visualize it using folium map.\nExplore the Toronto's neighbourhoods\nFirstly, we explored all the neighbourhoods in the city of Toronto, using the Latitude & Longitude data, using Foursquare API to get the Restaurant venues available in Toronto. Explore the unique categories in the neighbourhood. Filter the Venues details for all possible \u2018Restaurants\u2019. Find each neighbourhood along with the top most common venues. Identify the top 10 venues for each neighbourhood.\nClustering\nWith an assumption of 5 clusters, use K-Cluster algorithm to come up with 5 different clusters in Toronto with similar set of Venues. Explore each cluster and determine the discriminating venue categories that distinguish each cluster. Identify the clusters & Boroughs with Maximum number restaurants and their types.\nResults and Discussion \nOur analysis shows that although there is a great number of restaurants in Toronto, there are pockets of low restaurant density fairly close to Downtown Toronto .We have 4 boroughs and 74 neighbourhoods inside geographical coordinate of 43.653963, -79.387207.\nBased on our initial assumption of the cluster with maximum number of restaurants will have the best possibility to have a new restaurant due to the need in the area. Based on the resultant clusters it looks like Cluster 1 and Cluster 5 have higher number of resturants then rest of the clusters.\nIt is entirely possible that there is a very good reason for small number of restaurants in any of those areas, reasons which would make them unsuitable for a new restaurant regardless of lack of competition in the area. Recommended zones should therefore be considered only as a starting point for more detailed analysis which could eventually result in location which has not only no nearby competition but also other factors taken into account and all other relevant conditions met.\nConclusion \nThe aim of this project is to find the best location to open a restaurant. This report is created with   the intention of providing accurate data to the stakeholders who are interested In  starting a restaurant in Toronto Ontario Canada.\nBased on various factors it will provide data regarding the best locations to start the business based on the population in the neighbourhood .There are many restaurants in Toronto .The aim of this is to find places where there is a scope for opening a restaurant .The use of Data science to provide the locations and their geographical area will be evaluated so the best possible location can be found for the stakeholders\n"
        },
        {
            "cell_type": "code",
            "execution_count": null,
            "metadata": {},
            "outputs": [],
            "source": ""
        }
    ],
    "metadata": {
        "kernelspec": {
            "display_name": "Python 3.6",
            "language": "python",
            "name": "python3"
        },
        "language_info": {
            "codemirror_mode": {
                "name": "ipython",
                "version": 3
            },
            "file_extension": ".py",
            "mimetype": "text/x-python",
            "name": "python",
            "nbconvert_exporter": "python",
            "pygments_lexer": "ipython3",
            "version": "3.6.8"
        }
    },
    "nbformat": 4,
    "nbformat_minor": 1
}
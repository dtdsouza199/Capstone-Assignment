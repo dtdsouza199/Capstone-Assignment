{
    "cells": [
        {
            "cell_type": "markdown",
            "metadata": {
                "collapsed": true
            },
            "source": "# Introduction:\n\nThe aim of this project is to find the best location to open a restaurant. This report is created with the intention of providing accurate data to the stakeholders who are interested In starting a restaurant in Toronto Ontario Canada.\nBased on various factors it will provide data regarding the best locations to start the business based on the population in the neighbourhood .There are many restaurants in Toronto .The aim of this is to find places where there is a scope for opening a restaurant .The use of Data science to provide the locations and their geographical area will be evaluated so the best possible location can be found for the stakeholders"
        },
        {
            "cell_type": "markdown",
            "metadata": {},
            "source": "# Data\nBased on the evaluation of our case study , factors that will most likely influence the  decision making process  are:\n\u2022\tEach and every restaurant in the neighbourhood \n\u2022\tThe age and income of the customers \n\u2022\tDistance from the households to Downtown Toronto \nThe use of grid which are regularly spaced  to define the neighbourhood.\nThe Following data sources will be required  to extract/generate the necessary Data\n\u2022\tcenters of candidate areas will be generated algorithmically and approximate addresses of centers of those areas will be obtained using https://en.wikipedia.org/wiki/List_of_postal_codes_of_Canada:_M\n\u2022\tusing Foursquare API  the type and location pf the number of restaurants will be obrtained\n"
        },
        {
            "cell_type": "code",
            "execution_count": null,
            "metadata": {},
            "outputs": [],
            "source": ""
        }
    ],
    "metadata": {
        "kernelspec": {
            "display_name": "Python 3.6",
            "language": "python",
            "name": "python3"
        },
        "language_info": {
            "codemirror_mode": {
                "name": "ipython",
                "version": 3
            },
            "file_extension": ".py",
            "mimetype": "text/x-python",
            "name": "python",
            "nbconvert_exporter": "python",
            "pygments_lexer": "ipython3",
            "version": "3.6.8"
        }
    },
    "nbformat": 4,
    "nbformat_minor": 1
}